{
 "cells": [
  {
   "cell_type": "code",
   "execution_count": 1,
   "metadata": {},
   "outputs": [],
   "source": [
    "import pandas as pd"
   ]
  },
  {
   "cell_type": "code",
   "execution_count": 2,
   "metadata": {},
   "outputs": [
    {
     "data": {
      "text/html": [
       "<div>\n",
       "<style scoped>\n",
       "    .dataframe tbody tr th:only-of-type {\n",
       "        vertical-align: middle;\n",
       "    }\n",
       "\n",
       "    .dataframe tbody tr th {\n",
       "        vertical-align: top;\n",
       "    }\n",
       "\n",
       "    .dataframe thead th {\n",
       "        text-align: right;\n",
       "    }\n",
       "</style>\n",
       "<table border=\"1\" class=\"dataframe\">\n",
       "  <thead>\n",
       "    <tr style=\"text-align: right;\">\n",
       "      <th></th>\n",
       "      <th>0</th>\n",
       "      <th>1</th>\n",
       "    </tr>\n",
       "  </thead>\n",
       "  <tbody>\n",
       "    <tr>\n",
       "      <th>0</th>\n",
       "      <td>ASM38968</td>\n",
       "      <td>긴급 EIR DB 전문 요청합니다 우수기변 후 음성 수발신불가 해당 단말 우수기변 ...</td>\n",
       "    </tr>\n",
       "    <tr>\n",
       "      <th>1</th>\n",
       "      <td>ASM30229</td>\n",
       "      <td>DLP 로그인 시 로그인 시도 에서 멈춤 인증요청중 상태에서 멈춤현상 정책가져오기 ...</td>\n",
       "    </tr>\n",
       "    <tr>\n",
       "      <th>2</th>\n",
       "      <td>ASM38849</td>\n",
       "      <td>판매자 정보관리 문의</td>\n",
       "    </tr>\n",
       "    <tr>\n",
       "      <th>3</th>\n",
       "      <td>ASM30157</td>\n",
       "      <td>DRM 로그인시 NS오류 나와 문의 김태영 실패했습니다 삭제 하고 재설치해도 같은증상</td>\n",
       "    </tr>\n",
       "    <tr>\n",
       "      <th>4</th>\n",
       "      <td>ASM14263</td>\n",
       "      <td>온라인신청서 개통 인증 신용카드 문의</td>\n",
       "    </tr>\n",
       "  </tbody>\n",
       "</table>\n",
       "</div>"
      ],
      "text/plain": [
       "          0                                                  1\n",
       "0  ASM38968  긴급 EIR DB 전문 요청합니다 우수기변 후 음성 수발신불가 해당 단말 우수기변 ...\n",
       "1  ASM30229  DLP 로그인 시 로그인 시도 에서 멈춤 인증요청중 상태에서 멈춤현상 정책가져오기 ...\n",
       "2  ASM38849                                        판매자 정보관리 문의\n",
       "3  ASM30157    DRM 로그인시 NS오류 나와 문의 김태영 실패했습니다 삭제 하고 재설치해도 같은증상\n",
       "4  ASM14263                               온라인신청서 개통 인증 신용카드 문의"
      ]
     },
     "execution_count": 2,
     "metadata": {},
     "output_type": "execute_result"
    }
   ],
   "source": [
    "df = pd.read_csv('dataset/trainset.tsv', sep='\\t', header=None)\n",
    "df.head()"
   ]
  },
  {
   "cell_type": "code",
   "execution_count": 9,
   "metadata": {},
   "outputs": [],
   "source": [
    "label_count = df.iloc[:,0].value_counts()"
   ]
  },
  {
   "cell_type": "code",
   "execution_count": 25,
   "metadata": {},
   "outputs": [],
   "source": [
    "label = label_count[label_count > 500].index.tolist()"
   ]
  },
  {
   "cell_type": "code",
   "execution_count": 26,
   "metadata": {},
   "outputs": [],
   "source": [
    "trainset = df[df.iloc[:,0].isin(label)]"
   ]
  },
  {
   "cell_type": "code",
   "execution_count": 27,
   "metadata": {},
   "outputs": [
    {
     "data": {
      "text/plain": [
       "ASM30031    1631\n",
       "ASM30565    1424\n",
       "ASM38968    1398\n",
       "ASM24663    1291\n",
       "ASM30014    1233\n",
       "ASM38849    1175\n",
       "ASM30037    1133\n",
       "ASM36933    1130\n",
       "ASM31688    1120\n",
       "ASM31686    1002\n",
       "ASM30034     917\n",
       "ASM24659     901\n",
       "ASM30157     879\n",
       "ASM38928     872\n",
       "ASM38948     817\n",
       "ASM34818     810\n",
       "ASM39321     777\n",
       "ASM35749     730\n",
       "ASM38410     721\n",
       "ASM39013     663\n",
       "ASM24662     595\n",
       "ASM36661     563\n",
       "ASM38933     523\n",
       "Name: 0, dtype: int64"
      ]
     },
     "execution_count": 27,
     "metadata": {},
     "output_type": "execute_result"
    }
   ],
   "source": [
    "trainset.iloc[:,0].value_counts()"
   ]
  },
  {
   "cell_type": "code",
   "execution_count": 28,
   "metadata": {},
   "outputs": [],
   "source": [
    "trainset.to_csv('dataset/trainset_500.tsv', sep='\\t', header=False, index=False)"
   ]
  },
  {
   "cell_type": "code",
   "execution_count": 29,
   "metadata": {},
   "outputs": [
    {
     "data": {
      "text/plain": [
       "23"
      ]
     },
     "execution_count": 29,
     "metadata": {},
     "output_type": "execute_result"
    }
   ],
   "source": [
    "len(trainset.iloc[:,0].value_counts())"
   ]
  },
  {
   "cell_type": "code",
   "execution_count": null,
   "metadata": {},
   "outputs": [],
   "source": []
  }
 ],
 "metadata": {
  "kernelspec": {
   "display_name": "Python 3",
   "language": "python",
   "name": "python3"
  },
  "language_info": {
   "codemirror_mode": {
    "name": "ipython",
    "version": 3
   },
   "file_extension": ".py",
   "mimetype": "text/x-python",
   "name": "python",
   "nbconvert_exporter": "python",
   "pygments_lexer": "ipython3",
   "version": "3.7.6"
  }
 },
 "nbformat": 4,
 "nbformat_minor": 4
}
